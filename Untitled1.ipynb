{
  "nbformat": 4,
  "nbformat_minor": 0,
  "metadata": {
    "colab": {
      "provenance": [],
      "authorship_tag": "ABX9TyM0du4UJhwGgFTAH+WrpJuL",
      "include_colab_link": true
    },
    "kernelspec": {
      "name": "python3",
      "display_name": "Python 3"
    },
    "language_info": {
      "name": "python"
    }
  },
  "cells": [
    {
      "cell_type": "markdown",
      "metadata": {
        "id": "view-in-github",
        "colab_type": "text"
      },
      "source": [
        "<a href=\"https://colab.research.google.com/github/LeonardoGD1/programacion/blob/main/Untitled1.ipynb\" target=\"_parent\"><img src=\"https://colab.research.google.com/assets/colab-badge.svg\" alt=\"Open In Colab\"/></a>"
      ]
    },
    {
      "cell_type": "code",
      "execution_count": null,
      "metadata": {
        "id": "tf99M1i1ZxjT"
      },
      "outputs": [],
      "source": [
        "from itertools import cycle\n",
        "personas_registradas = []\n",
        "\n",
        "def grabar_persona():\n",
        "  rut = input(\"Ingrese el RUT: \")\n",
        "  nombre = input(\"Ingrese el nombre: \")\n",
        "  edad = int(input(\"Ingrese la edad: \"))\n",
        "  pais_nacimiento = input(\"Ingrese el país de nacimiento: \")\n",
        "  ciudad_nacimiento = input(\"Ingrese la ciudad de nacimiento: \")\n",
        "\n",
        "  if digito_verificador(rut) and len(nombre) >= 8 and edad >= 0:\n",
        "    persona = [rut, nombre, edad, pais_nacimiento, ciudad_nacimiento]\n",
        "    personas_registradas.append(persona)\n",
        "    print(\"Se ha registrado correctamente.\")\n",
        "  else:\n",
        "    print(\"Datos incorrectos\")\n",
        "\n",
        "def digito_verificador(rut):\n",
        "  reversed_digits = map(int, reversed(str(rut)))\n",
        "  factors = cycle(range(2, 8))\n",
        "  s = sum(d * f for d, f in zip(reversed_digits, factors))\n",
        "  return (-s) % 11\n",
        "\n",
        "def buscar_persona():\n",
        "  rut = input(\"Ingrese el RUT de la persona que desea buscar: \")\n",
        "  for persona in personas_registradas:\n",
        "    if persona[0] == rut:\n",
        "      print(\"Informacion:\")\n",
        "      print(\"Rut:\", persona[0])\n",
        "      print(\"Nombre: \", persona[1])\n",
        "      print(\"Edad: \", persona[2])\n",
        "      print(\"Pais de nacimiento: \", persona[3])\n",
        "      print(\"Ciudad de nacimiento: \", persona[4])\n",
        "\n",
        "def imprimir_certificado():\n",
        "  certificados = [\"Certificado de nacimiento\", \"Certificado de estado conyugal\"]\n",
        "  for persona in personas_registradas:\n",
        "    print(\"Certificado de\", persona[1], \"con RUT\", persona[0])\n",
        "    for certificado in certificados:\n",
        "      print(\"Certificado: \", certificado)\n",
        "      print(\"RUT: \", persona[0])\n",
        "      print(\"Nombre: \", persona[1])\n",
        "\n",
        "def eliminar_persona():\n",
        "  rut = input(\"Ingresa el rut de la persona que deseas eliminar: \")\n",
        "  for persona in personas_registradas:\n",
        "    if persona[0] == rut:\n",
        "      personas_registradas.remove(persona)\n",
        "      print(\"Ha sido eliminado exitosamente\")\n",
        "      return\n",
        "    else:\n",
        "      print(\"Esa persona no se encuentra registrada\")\n",
        "\n",
        "def salir():\n",
        "  print(\"Gracias por usar el programa. ¡Hasta luego!\")\n",
        "\n",
        "def menu():\n",
        "  while True:\n",
        "        print(\"----- MENÚ -----\")\n",
        "        print(\"1. Grabar\")\n",
        "        print(\"2. Buscar\")\n",
        "        print(\"3. Imprimir certificados\")\n",
        "        print(\"4. Eliminar\")\n",
        "        print(\"5. Salir\")\n",
        "        opcion = input(\"Seleccione una opción: \")\n",
        "\n",
        "        if opcion == \"1\":\n",
        "          grabar_persona()\n",
        "        elif opcion == \"2\":\n",
        "          buscar_persona()\n",
        "        elif opcion == \"3\":\n",
        "          imprimir_certificado()\n",
        "        elif opcion == \"4\":\n",
        "          eliminar_persona()\n",
        "        elif opcion == \"5\":\n",
        "          salir()\n",
        "          break\n",
        "        else:\n",
        "            print(\"Opción inválida. Intente nuevamente.\")\n",
        "\n",
        "menu()"
      ]
    }
  ]
}